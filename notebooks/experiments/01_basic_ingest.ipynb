{
 "cells": [
  {
   "cell_type": "markdown",
   "id": "fd4f18da-3e86-4129-aa31-6575fbc87303",
   "metadata": {},
   "source": [
    "# Basic: Inget\n",
    "\n",
    "* Ingest Pipeline:\n",
    "    * Simple PDF parsing\n",
    "    * Page chunking and indexing\n",
    "* Query Pipeline\n",
    "    * Basic retriver"
   ]
  },
  {
   "cell_type": "code",
   "execution_count": 1,
   "id": "97a5a3e4-4348-46e9-a793-17c480ab7875",
   "metadata": {},
   "outputs": [],
   "source": [
    "%load_ext autoreload\n",
    "%autoreload 2"
   ]
  },
  {
   "cell_type": "code",
   "execution_count": 16,
   "id": "78ba71f2-fdb9-4ab7-8153-3e4296288e13",
   "metadata": {},
   "outputs": [],
   "source": [
    "import logging\n",
    "from pathlib import Path\n",
    "import pickle\n",
    "\n",
    "from dotenv import load_dotenv\n",
    "import pandas as pd\n",
    "from ragas.evaluation import evaluate\n",
    "from ragas.metrics import (\n",
    "    faithfulness,\n",
    "    answer_relevancy,\n",
    "    context_relevancy,\n",
    "    context_recall,\n",
    "    context_precision,\n",
    ")\n",
    "\n",
    "from langchain_community.document_loaders import PyPDFLoader\n",
    "from langchain_openai import OpenAIEmbeddings, ChatOpenAI\n",
    "from langchain_chroma import Chroma\n",
    "\n",
    "from src import chain, tags, rag_eval\n",
    "\n",
    "from src.mle import utils as mle_utils"
   ]
  },
  {
   "cell_type": "code",
   "execution_count": 3,
   "id": "1af7b5de-adf8-4ece-b5a6-9dc22036b413",
   "metadata": {},
   "outputs": [
    {
     "data": {
      "text/plain": [
       "'C:\\\\Users\\\\manua\\\\.conda\\\\envs\\\\rag-advanced\\\\python.exe'"
      ]
     },
     "execution_count": 3,
     "metadata": {},
     "output_type": "execute_result"
    }
   ],
   "source": [
    "import sys\n",
    "\n",
    "sys.executable"
   ]
  },
  {
   "cell_type": "markdown",
   "id": "c02dd82d-b391-48c0-81b9-c1fe5c2e2567",
   "metadata": {},
   "source": [
    "# Params"
   ]
  },
  {
   "cell_type": "code",
   "execution_count": 4,
   "id": "f10460f6-4673-4f8c-9c3b-a7f02a1aa44c",
   "metadata": {},
   "outputs": [],
   "source": [
    "id_pipeline = \"01basic\"\n",
    "folder_src = \"ai-papers\"\n",
    "index_name = \"ai-papers\"\n",
    "llm_emb = \"text-embedding-3-small\"\n",
    "retriever_k = 2\n",
    "retriever_treshold = 0.3\n",
    "temp = 0.2\n",
    "llm_model = \"gpt-4o-mini\""
   ]
  },
  {
   "cell_type": "code",
   "execution_count": 35,
   "id": "e188104e-1f1e-4288-8b8e-b99ce80afd69",
   "metadata": {},
   "outputs": [],
   "source": [
    "load_dotenv()\n",
    "embeddings = OpenAIEmbeddings(model=llm_emb)\n",
    "llm_qa = ChatOpenAI(model_name=llm_model, temperature=temp)\n",
    "llm_eval = ChatOpenAI(model_name=llm_model, temperature=0.1)\n",
    "\n",
    "\n",
    "path_corpus = mle_utils.path_data_raw / folder_src \n",
    "\n",
    "path_db = mle_utils.path_data_interm / index_name / \"chroma_langchain_db\"\n",
    "path_db.mkdir(exist_ok=True, parents=True)\n",
    "\n",
    "path_eval_ds = mle_utils.path_data_raw / \"eval-questions\" \n",
    "fln_eval_ds = path_eval_ds / f\"{index_name}.csv\"\n",
    "\n",
    "\n",
    "path_eval = mle_utils.path_data_processed /  \"evals\" / index_name\n",
    "path_eval.mkdir(exist_ok=True, parents=True)\n",
    "fln_eval_ragas = path_eval / f\"ragas-{id_pipeline}.pkl\""
   ]
  },
  {
   "cell_type": "markdown",
   "id": "57dfc500-8246-4b22-a086-ba4c0a9c8813",
   "metadata": {},
   "source": [
    "# Parse"
   ]
  },
  {
   "cell_type": "code",
   "execution_count": 16,
   "id": "adcc1576-6d06-41a5-ab22-1fd11f349de7",
   "metadata": {},
   "outputs": [
    {
     "name": "stdout",
     "output_type": "stream",
     "text": [
      "c:\\users\\manua\\documents\\repos\\dslabs\\rag-advanced\\data\\raw\\ai-papers\\colpali.pdf\n",
      "c:\\users\\manua\\documents\\repos\\dslabs\\rag-advanced\\data\\raw\\ai-papers\\lagllama.pdf\n",
      "c:\\users\\manua\\documents\\repos\\dslabs\\rag-advanced\\data\\raw\\ai-papers\\llama3herd.pdf\n",
      "c:\\users\\manua\\documents\\repos\\dslabs\\rag-advanced\\data\\raw\\ai-papers\\mamba.pdf\n",
      "c:\\users\\manua\\documents\\repos\\dslabs\\rag-advanced\\data\\raw\\ai-papers\\paligemma.pdf\n",
      "c:\\users\\manua\\documents\\repos\\dslabs\\rag-advanced\\data\\raw\\ai-papers\\timesfm.pdf\n"
     ]
    }
   ],
   "source": [
    "\n",
    "\n",
    "lst_docs_corpus = []\n",
    "uuids = []\n",
    "for file in path_corpus.iterdir():\n",
    "    loader = PyPDFLoader(path_corpus / file)\n",
    "    print(file)\n",
    "    logging.info(\"Parsing file: %s\", file)\n",
    "    docs = loader.load()\n",
    "    for doc in docs:\n",
    "        doc.metadata['file_name'] = file.stem\n",
    "        doc.metadata['extension'] = file.suffix\n",
    "        doc.metadata['page'] += 1\n",
    "        uuids.append(file.stem + \"-\" + str(doc.metadata['page']))\n",
    "    logging.info(\"SUCCESS: Parsed file: %s, obtained %s documents\", file, len(docs))\n",
    "    lst_docs_corpus.extend(docs)\n",
    "    "
   ]
  },
  {
   "cell_type": "code",
   "execution_count": 30,
   "id": "3157bf16-1fb5-4b2e-9cd4-99e224e47313",
   "metadata": {},
   "outputs": [
    {
     "data": {
      "text/plain": [
       "242"
      ]
     },
     "execution_count": 30,
     "metadata": {},
     "output_type": "execute_result"
    }
   ],
   "source": [
    "len(uuids)"
   ]
  },
  {
   "cell_type": "markdown",
   "id": "4d45caa6-28f7-42d4-b956-17d86f2e4b12",
   "metadata": {},
   "source": [
    "# Chunks"
   ]
  },
  {
   "cell_type": "markdown",
   "id": "589f6ad5-1a1f-4dfc-8a31-7dca0bf33a8e",
   "metadata": {},
   "source": [
    "# Index"
   ]
  },
  {
   "cell_type": "code",
   "execution_count": 6,
   "id": "8a0b5b13-4396-4dd2-ba35-7c2cad81e5a9",
   "metadata": {},
   "outputs": [],
   "source": [
    "vector_store = Chroma(\n",
    "    collection_name=index_name,\n",
    "    embedding_function=embeddings,\n",
    "    persist_directory=path_db.as_posix()\n",
    ")\n",
    "\n",
    "\n",
    "#vector_store.add_documents(documents=lst_docs_corpus, ids=uuids)"
   ]
  },
  {
   "cell_type": "markdown",
   "id": "4ab7a893-9909-4f96-9d38-1f714e7912e4",
   "metadata": {},
   "source": [
    "# Test Query"
   ]
  },
  {
   "cell_type": "code",
   "execution_count": 7,
   "id": "b5029a39-3762-4c1a-8cf6-dd8642ab4e67",
   "metadata": {},
   "outputs": [
    {
     "name": "stdout",
     "output_type": "stream",
     "text": [
      "* Lag-Llama\n",
      "number of series is useful when sampling random windows\n",
      "from the pretraining corpus. Furth [{'extension': '.pdf', 'page': 5, 'source': 'lagllama'}]\n",
      "\n",
      "* Lag-Llama\n",
      "as in LLaMA (Touvron et al., 2023).\n",
      "After passing through the causally masked transformer  [{'extension': '.pdf', 'page': 4, 'source': 'lagllama'}]\n",
      "\n"
     ]
    }
   ],
   "source": [
    "results = vector_store.similarity_search(\n",
    "    \"how many datasets are used to train lag-llama?\",\n",
    "    k=2\n",
    ")\n",
    "for res in results:\n",
    "    print(f\"* {res.page_content[:100]} [{res.metadata}]\")\n",
    "    print()"
   ]
  },
  {
   "cell_type": "code",
   "execution_count": 8,
   "id": "fdd359ec-988f-460d-8ef0-269a20dc2cb0",
   "metadata": {},
   "outputs": [
    {
     "name": "stdout",
     "output_type": "stream",
     "text": [
      "Context:\n",
      "* Lag-Llama\n",
      "number of series is useful when sampling random windows\n",
      "from the pretraining corpus. Furth [{'extension': '.pdf', 'page': 4, 'source': 'lagllama'}]\n",
      "\n",
      "* Lag-Llama\n",
      "Dtest={xi\n",
      "Ti+1:Ti+P}D\n",
      "i=1.\n",
      "Theunivariate probabilistic time series forecasting problem\n",
      "inv [{'extension': '.pdf', 'page': 4, 'source': 'lagllama'}]\n",
      "\n",
      "Answer:  A total of 27 time series datasets are used to train the Lag-Llama model.\n"
     ]
    }
   ],
   "source": [
    "\n",
    "retriever = vector_store.as_retriever(\n",
    "    search_type=\"similarity_score_threshold\", search_kwargs={\"score_threshold\":retriever_treshold, \"k\": retriever_k})\n",
    "chain_basic_rag = chain.rag_basic_with_sources(llm_qa , retriever)\n",
    "response = chain_basic_rag.invoke({'input': \"how many time series datasets are used to train lag-llama model?\"})\n",
    "\n",
    "print(\"Context:\")\n",
    "for context in response['context']:\n",
    "    print(f\"* {context.page_content[:100]} [{res.metadata}]\")\n",
    "    print()\n",
    "    \n",
    "print(\"Answer: \", response['answer'])"
   ]
  },
  {
   "cell_type": "code",
   "execution_count": 7,
   "id": "40ca06a0-e371-4bfd-af13-eb951527fc17",
   "metadata": {},
   "outputs": [
    {
     "data": {
      "text/html": [
       "<div>\n",
       "<style scoped>\n",
       "    .dataframe tbody tr th:only-of-type {\n",
       "        vertical-align: middle;\n",
       "    }\n",
       "\n",
       "    .dataframe tbody tr th {\n",
       "        vertical-align: top;\n",
       "    }\n",
       "\n",
       "    .dataframe thead th {\n",
       "        text-align: right;\n",
       "    }\n",
       "</style>\n",
       "<table border=\"1\" class=\"dataframe\">\n",
       "  <thead>\n",
       "    <tr style=\"text-align: right;\">\n",
       "      <th></th>\n",
       "      <th>paper</th>\n",
       "      <th>question</th>\n",
       "      <th>ground_truth</th>\n",
       "      <th>source</th>\n",
       "      <th>split_</th>\n",
       "    </tr>\n",
       "  </thead>\n",
       "  <tbody>\n",
       "    <tr>\n",
       "      <th>0</th>\n",
       "      <td>Mamba: Linear-Time Sequence Modeling with Sele...</td>\n",
       "      <td>What are the main limitations and risks associ...</td>\n",
       "      <td>While Mamba shows strong performance in variou...</td>\n",
       "      <td>Section 5</td>\n",
       "      <td>1.train</td>\n",
       "    </tr>\n",
       "    <tr>\n",
       "      <th>1</th>\n",
       "      <td>PaliGemma</td>\n",
       "      <td>How does PaliGemma perform compared to larger ...</td>\n",
       "      <td>PaliGemma, with less than 3B parameters, achie...</td>\n",
       "      <td>Introduction, Section 1; Results, Section 4</td>\n",
       "      <td>1.train</td>\n",
       "    </tr>\n",
       "    <tr>\n",
       "      <th>2</th>\n",
       "      <td>Llama 3</td>\n",
       "      <td>What ablation studies were conducted on Llama ...</td>\n",
       "      <td>Ablation studies focused on hyperparameters li...</td>\n",
       "      <td>Ablation Studies, Section 5</td>\n",
       "      <td>1.train</td>\n",
       "    </tr>\n",
       "    <tr>\n",
       "      <th>3</th>\n",
       "      <td>Mamba: Linear-Time Sequence Modeling with Sele...</td>\n",
       "      <td>What is the hardware optimization that enables...</td>\n",
       "      <td>Mamba uses a hardware-aware parallel algorithm...</td>\n",
       "      <td>Abstract, Section 3.3</td>\n",
       "      <td>1.train</td>\n",
       "    </tr>\n",
       "    <tr>\n",
       "      <th>4</th>\n",
       "      <td>PaliGemma</td>\n",
       "      <td>How does PaliGemma achieve transferability acr...</td>\n",
       "      <td>PaliGemma uses a flexible fine-tuning approach...</td>\n",
       "      <td>Transferability, Section 6</td>\n",
       "      <td>1.train</td>\n",
       "    </tr>\n",
       "    <tr>\n",
       "      <th>5</th>\n",
       "      <td>Lag-Llama</td>\n",
       "      <td>What is the choice of the distribution head us...</td>\n",
       "      <td>The model uses a Student's t-distribution head...</td>\n",
       "      <td>Section 4.3: Choice of Distribution Head</td>\n",
       "      <td>1.train</td>\n",
       "    </tr>\n",
       "    <tr>\n",
       "      <th>6</th>\n",
       "      <td>Lag-Llama</td>\n",
       "      <td>What datasets were used to train and evaluate ...</td>\n",
       "      <td>The model was trained on 27 datasets across do...</td>\n",
       "      <td>Section 5.1: Datasets</td>\n",
       "      <td>1.train</td>\n",
       "    </tr>\n",
       "    <tr>\n",
       "      <th>7</th>\n",
       "      <td>ColPali</td>\n",
       "      <td>How does ColPali achieve faster indexing and q...</td>\n",
       "      <td>ColPali directly encodes pages from their imag...</td>\n",
       "      <td>Section 5.2, Latencies &amp; Memory Footprint</td>\n",
       "      <td>1.train</td>\n",
       "    </tr>\n",
       "    <tr>\n",
       "      <th>8</th>\n",
       "      <td>TimesFM</td>\n",
       "      <td>How does TimesFM handle long-horizon forecasts...</td>\n",
       "      <td>TimesFM uses longer output patches during deco...</td>\n",
       "      <td>Model Architecture, Section 4</td>\n",
       "      <td>1.train</td>\n",
       "    </tr>\n",
       "    <tr>\n",
       "      <th>9</th>\n",
       "      <td>TimesFM</td>\n",
       "      <td>What novelties does the TimesFM introduce in t...</td>\n",
       "      <td>The main novelties include a patched-decoder s...</td>\n",
       "      <td>Abstract, Introduction, Model Architecture</td>\n",
       "      <td>1.train</td>\n",
       "    </tr>\n",
       "    <tr>\n",
       "      <th>10</th>\n",
       "      <td>ColPali</td>\n",
       "      <td>What problem does ColPali aim to solve in docu...</td>\n",
       "      <td>ColPali addresses the inefficiencies in curren...</td>\n",
       "      <td>Abstract, Introduction</td>\n",
       "      <td>1.train</td>\n",
       "    </tr>\n",
       "    <tr>\n",
       "      <th>11</th>\n",
       "      <td>Llama 3</td>\n",
       "      <td>What strategies were used to scale the Llama 3...</td>\n",
       "      <td>Llama 3 uses 4D parallelism, combining tensor,...</td>\n",
       "      <td>Infrastructure, Section 3.3</td>\n",
       "      <td>1.train</td>\n",
       "    </tr>\n",
       "  </tbody>\n",
       "</table>\n",
       "</div>"
      ],
      "text/plain": [
       "                                                paper  \\\n",
       "0   Mamba: Linear-Time Sequence Modeling with Sele...   \n",
       "1                                           PaliGemma   \n",
       "2                                             Llama 3   \n",
       "3   Mamba: Linear-Time Sequence Modeling with Sele...   \n",
       "4                                           PaliGemma   \n",
       "5                                           Lag-Llama   \n",
       "6                                           Lag-Llama   \n",
       "7                                             ColPali   \n",
       "8                                             TimesFM   \n",
       "9                                             TimesFM   \n",
       "10                                            ColPali   \n",
       "11                                            Llama 3   \n",
       "\n",
       "                                             question  \\\n",
       "0   What are the main limitations and risks associ...   \n",
       "1   How does PaliGemma perform compared to larger ...   \n",
       "2   What ablation studies were conducted on Llama ...   \n",
       "3   What is the hardware optimization that enables...   \n",
       "4   How does PaliGemma achieve transferability acr...   \n",
       "5   What is the choice of the distribution head us...   \n",
       "6   What datasets were used to train and evaluate ...   \n",
       "7   How does ColPali achieve faster indexing and q...   \n",
       "8   How does TimesFM handle long-horizon forecasts...   \n",
       "9   What novelties does the TimesFM introduce in t...   \n",
       "10  What problem does ColPali aim to solve in docu...   \n",
       "11  What strategies were used to scale the Llama 3...   \n",
       "\n",
       "                                         ground_truth  \\\n",
       "0   While Mamba shows strong performance in variou...   \n",
       "1   PaliGemma, with less than 3B parameters, achie...   \n",
       "2   Ablation studies focused on hyperparameters li...   \n",
       "3   Mamba uses a hardware-aware parallel algorithm...   \n",
       "4   PaliGemma uses a flexible fine-tuning approach...   \n",
       "5   The model uses a Student's t-distribution head...   \n",
       "6   The model was trained on 27 datasets across do...   \n",
       "7   ColPali directly encodes pages from their imag...   \n",
       "8   TimesFM uses longer output patches during deco...   \n",
       "9   The main novelties include a patched-decoder s...   \n",
       "10  ColPali addresses the inefficiencies in curren...   \n",
       "11  Llama 3 uses 4D parallelism, combining tensor,...   \n",
       "\n",
       "                                         source   split_  \n",
       "0                                     Section 5  1.train  \n",
       "1   Introduction, Section 1; Results, Section 4  1.train  \n",
       "2                   Ablation Studies, Section 5  1.train  \n",
       "3                         Abstract, Section 3.3  1.train  \n",
       "4                    Transferability, Section 6  1.train  \n",
       "5      Section 4.3: Choice of Distribution Head  1.train  \n",
       "6                         Section 5.1: Datasets  1.train  \n",
       "7     Section 5.2, Latencies & Memory Footprint  1.train  \n",
       "8                 Model Architecture, Section 4  1.train  \n",
       "9    Abstract, Introduction, Model Architecture  1.train  \n",
       "10                       Abstract, Introduction  1.train  \n",
       "11                  Infrastructure, Section 3.3  1.train  "
      ]
     },
     "execution_count": 7,
     "metadata": {},
     "output_type": "execute_result"
    }
   ],
   "source": [
    "split_label = mle_utils.Splits.TRAIN.value\n",
    "\n",
    "\n",
    "\n",
    "df_eval_qs = (pd.read_csv(fln_eval_ds)\n",
    "              .query(f\"{tags.SPLIT} == '{split_label}'\"))\n",
    "df_eval_qs"
   ]
  },
  {
   "cell_type": "code",
   "execution_count": 11,
   "id": "35a560dd-6a9e-4d66-805b-529b409c7a3e",
   "metadata": {},
   "outputs": [],
   "source": [
    "dataset = rag_eval.populate_eval_dataset(df_eval_qs, chain_basic_rag)\n",
    "\n",
    "# https://www.databricks.com/blog/LLM-auto-eval-best-practices-RAG\n",
    "# https://docs.ragas.io/en/latest/references/evaluation.htmlS"
   ]
  },
  {
   "cell_type": "code",
   "execution_count": 15,
   "id": "127a29ed-30d5-4b3f-838e-f7eabe900e24",
   "metadata": {},
   "outputs": [
    {
     "data": {
      "text/plain": [
       "WindowsPath('evals/ragas-ai-papers-basic.pkl')"
      ]
     },
     "execution_count": 15,
     "metadata": {},
     "output_type": "execute_result"
    }
   ],
   "source": [
    "fln_ragas_eval"
   ]
  },
  {
   "cell_type": "code",
   "execution_count": 14,
   "id": "617591db-a585-4b77-bb61-edf349a290da",
   "metadata": {},
   "outputs": [
    {
     "data": {
      "text/plain": [
       "False"
      ]
     },
     "execution_count": 14,
     "metadata": {},
     "output_type": "execute_result"
    }
   ],
   "source": [
    "fln_ragas_eval.exists()"
   ]
  },
  {
   "cell_type": "code",
   "execution_count": 29,
   "id": "1c593c19-b9f2-46ac-a66a-4d723c5190c3",
   "metadata": {},
   "outputs": [],
   "source": [
    "metrics = [\n",
    "            context_relevancy,\n",
    "            context_precision,\n",
    "            context_recall,\n",
    "            faithfulness,\n",
    "            answer_relevancy,\n",
    "        ]"
   ]
  },
  {
   "cell_type": "code",
   "execution_count": 28,
   "id": "3d987d1d-72b2-49d9-9729-6070a9e0c959",
   "metadata": {},
   "outputs": [
    {
     "data": {
      "text/plain": [
       "'context_relevancy'"
      ]
     },
     "execution_count": 28,
     "metadata": {},
     "output_type": "execute_result"
    }
   ],
   "source": [
    "context_relevancy.name"
   ]
  },
  {
   "cell_type": "code",
   "execution_count": 33,
   "id": "7fa9f1e7-a9bb-451d-b747-e5e74641cae6",
   "metadata": {},
   "outputs": [
    {
     "data": {
      "text/plain": [
       "False"
      ]
     },
     "execution_count": 33,
     "metadata": {},
     "output_type": "execute_result"
    }
   ],
   "source": [
    "fln_ragas_eval.exists()"
   ]
  },
  {
   "cell_type": "code",
   "execution_count": 65,
   "id": "c9048ced-a0c4-482c-9f6a-f0163fee5f42",
   "metadata": {},
   "outputs": [],
   "source": [
    "from langfuse import client"
   ]
  },
  {
   "cell_type": "code",
   "execution_count": 68,
   "id": "122fb491-80ec-4f37-8999-3c08fc612716",
   "metadata": {},
   "outputs": [
    {
     "data": {
      "text/plain": [
       "<langfuse.client.Langfuse at 0x1f7ea9b02b0>"
      ]
     },
     "execution_count": 68,
     "metadata": {},
     "output_type": "execute_result"
    }
   ],
   "source": [
    "langfuse"
   ]
  },
  {
   "cell_type": "code",
   "execution_count": 39,
   "id": "557b0295-45c2-43e7-8e2e-b72829860cd7",
   "metadata": {},
   "outputs": [
    {
     "data": {
      "text/plain": [
       "{'context_relevancy': 0.0325, 'context_precision': 0.7500, 'context_recall': 0.5278, 'faithfulness': 0.5625, 'answer_relevancy': 0.5502}"
      ]
     },
     "execution_count": 39,
     "metadata": {},
     "output_type": "execute_result"
    }
   ],
   "source": [
    "res_ragas_eval"
   ]
  },
  {
   "cell_type": "code",
   "execution_count": 44,
   "id": "4d981bac-fc69-4a06-9190-93d1dcc664bf",
   "metadata": {},
   "outputs": [
    {
     "data": {
      "text/plain": [
       "{'context_relevancy': 0.0325, 'context_precision': 0.7500, 'context_recall': 0.5278, 'faithfulness': 0.5625, 'answer_relevancy': 0.5502}"
      ]
     },
     "execution_count": 44,
     "metadata": {},
     "output_type": "execute_result"
    }
   ],
   "source": [
    "if fln_eval_ragas.exists():\n",
    "    with open(fln_eval_ragas, \"rb\") as file:\n",
    "        res_ragas_eval = pickle.load(file)\n",
    "\n",
    "else:  \n",
    "    res_ragas_eval = evaluate(\n",
    "        dataset=dataset,\n",
    "        metrics=[\n",
    "            context_relevancy,\n",
    "            context_precision,\n",
    "            context_recall,\n",
    "            faithfulness,\n",
    "            answer_relevancy,\n",
    "        ],\n",
    "        llm=llm_eval,\n",
    "        embeddings=embeddings\n",
    "    )\n",
    "    \n",
    "\n",
    "    with open(fln_ragas_eval, \"wb\") as file:\n",
    "        pickle.dump(res_ragas_eval, file)\n",
    "\n",
    "\n",
    "res_ragas_eval"
   ]
  },
  {
   "cell_type": "code",
   "execution_count": 10,
   "id": "9b7b9a9d-f968-449c-9848-f60b064e3fc1",
   "metadata": {},
   "outputs": [
    {
     "data": {
      "text/html": [
       "<div>\n",
       "<style scoped>\n",
       "    .dataframe tbody tr th:only-of-type {\n",
       "        vertical-align: middle;\n",
       "    }\n",
       "\n",
       "    .dataframe tbody tr th {\n",
       "        vertical-align: top;\n",
       "    }\n",
       "\n",
       "    .dataframe thead th {\n",
       "        text-align: right;\n",
       "    }\n",
       "</style>\n",
       "<table border=\"1\" class=\"dataframe\">\n",
       "  <thead>\n",
       "    <tr style=\"text-align: right;\">\n",
       "      <th></th>\n",
       "      <th>question</th>\n",
       "      <th>answer</th>\n",
       "      <th>contexts</th>\n",
       "      <th>ground_truth</th>\n",
       "      <th>context_relevancy</th>\n",
       "      <th>context_precision</th>\n",
       "      <th>context_recall</th>\n",
       "      <th>faithfulness</th>\n",
       "      <th>answer_relevancy</th>\n",
       "    </tr>\n",
       "  </thead>\n",
       "  <tbody>\n",
       "    <tr>\n",
       "      <th>0</th>\n",
       "      <td>What are the main limitations and risks associ...</td>\n",
       "      <td>No relevant information has been founded relat...</td>\n",
       "      <td>[Model Arch. Layer Acc.\\nS4 No gate S4 18.3\\n-...</td>\n",
       "      <td>While Mamba shows strong performance in variou...</td>\n",
       "      <td>0.012195</td>\n",
       "      <td>0.0</td>\n",
       "      <td>0.000000</td>\n",
       "      <td>0.0000</td>\n",
       "      <td>0.000000</td>\n",
       "    </tr>\n",
       "    <tr>\n",
       "      <th>1</th>\n",
       "      <td>How does PaliGemma perform compared to larger ...</td>\n",
       "      <td>PaliGemma, despite being a sub-3B vision-langu...</td>\n",
       "      <td>[July 2024\\nPaliGemma: A versatile 3B VLM for ...</td>\n",
       "      <td>PaliGemma, with less than 3B parameters, achie...</td>\n",
       "      <td>0.018405</td>\n",
       "      <td>1.0</td>\n",
       "      <td>1.000000</td>\n",
       "      <td>1.0000</td>\n",
       "      <td>0.811428</td>\n",
       "    </tr>\n",
       "    <tr>\n",
       "      <th>2</th>\n",
       "      <td>What ablation studies were conducted on Llama ...</td>\n",
       "      <td>No relevant information has been founded relat...</td>\n",
       "      <td>[Model Preference\\nPM for Llama 3 8B 60.0%\\nSt...</td>\n",
       "      <td>Ablation studies focused on hyperparameters li...</td>\n",
       "      <td>0.015385</td>\n",
       "      <td>0.0</td>\n",
       "      <td>0.000000</td>\n",
       "      <td>0.0000</td>\n",
       "      <td>0.000000</td>\n",
       "    </tr>\n",
       "    <tr>\n",
       "      <th>3</th>\n",
       "      <td>What is the hardware optimization that enables...</td>\n",
       "      <td>No relevant information has been founded relat...</td>\n",
       "      <td>[/uni00000015/uni00000014/uni0000001a/uni00000...</td>\n",
       "      <td>Mamba uses a hardware-aware parallel algorithm...</td>\n",
       "      <td>0.008065</td>\n",
       "      <td>1.0</td>\n",
       "      <td>0.000000</td>\n",
       "      <td>0.0000</td>\n",
       "      <td>0.000000</td>\n",
       "    </tr>\n",
       "    <tr>\n",
       "      <th>4</th>\n",
       "      <td>How does PaliGemma achieve transferability acr...</td>\n",
       "      <td>PaliGemma achieves transferability across diff...</td>\n",
       "      <td>[PaliGemma: A versatile 3B VLM for transfer\\nL...</td>\n",
       "      <td>PaliGemma uses a flexible fine-tuning approach...</td>\n",
       "      <td>0.020202</td>\n",
       "      <td>1.0</td>\n",
       "      <td>0.333333</td>\n",
       "      <td>0.5625</td>\n",
       "      <td>1.000000</td>\n",
       "    </tr>\n",
       "    <tr>\n",
       "      <th>5</th>\n",
       "      <td>What is the choice of the distribution head us...</td>\n",
       "      <td>The choice of the distribution head used in La...</td>\n",
       "      <td>[Lag-Llama\\nas in LLaMA (Touvron et al., 2023)...</td>\n",
       "      <td>The model uses a Student's t-distribution head...</td>\n",
       "      <td>0.016529</td>\n",
       "      <td>1.0</td>\n",
       "      <td>1.000000</td>\n",
       "      <td>1.0000</td>\n",
       "      <td>0.856607</td>\n",
       "    </tr>\n",
       "    <tr>\n",
       "      <th>6</th>\n",
       "      <td>What datasets were used to train and evaluate ...</td>\n",
       "      <td>No relevant information has been founded relat...</td>\n",
       "      <td>[Finetuned Multilingual Long context Tool use ...</td>\n",
       "      <td>The model was trained on 27 datasets across do...</td>\n",
       "      <td>0.005376</td>\n",
       "      <td>0.0</td>\n",
       "      <td>0.000000</td>\n",
       "      <td>0.5000</td>\n",
       "      <td>0.000000</td>\n",
       "    </tr>\n",
       "    <tr>\n",
       "      <th>7</th>\n",
       "      <td>How does ColPali achieve faster indexing and q...</td>\n",
       "      <td>ColPali achieves faster indexing and querying ...</td>\n",
       "      <td>[Figure 2: ColPali simplifies document retriev...</td>\n",
       "      <td>ColPali directly encodes pages from their imag...</td>\n",
       "      <td>0.043478</td>\n",
       "      <td>1.0</td>\n",
       "      <td>1.000000</td>\n",
       "      <td>1.0000</td>\n",
       "      <td>1.000000</td>\n",
       "    </tr>\n",
       "    <tr>\n",
       "      <th>8</th>\n",
       "      <td>How does TimesFM handle long-horizon forecasts...</td>\n",
       "      <td>TimesFM handles long-horizon forecasts by util...</td>\n",
       "      <td>[A decoder-only foundation model for time-seri...</td>\n",
       "      <td>TimesFM uses longer output patches during deco...</td>\n",
       "      <td>0.027027</td>\n",
       "      <td>1.0</td>\n",
       "      <td>1.000000</td>\n",
       "      <td>0.7500</td>\n",
       "      <td>0.934344</td>\n",
       "    </tr>\n",
       "    <tr>\n",
       "      <th>9</th>\n",
       "      <td>What novelties does the TimesFM introduce in t...</td>\n",
       "      <td>No relevant information has been founded relat...</td>\n",
       "      <td>[A decoder-only foundation model for time-seri...</td>\n",
       "      <td>The main novelties include a patched-decoder s...</td>\n",
       "      <td>0.028409</td>\n",
       "      <td>1.0</td>\n",
       "      <td>1.000000</td>\n",
       "      <td>0.0000</td>\n",
       "      <td>0.000000</td>\n",
       "    </tr>\n",
       "    <tr>\n",
       "      <th>10</th>\n",
       "      <td>What problem does ColPali aim to solve in docu...</td>\n",
       "      <td>ColPali aims to solve the problem of efficient...</td>\n",
       "      <td>[Figure 2: ColPali simplifies document retriev...</td>\n",
       "      <td>ColPali addresses the inefficiencies in curren...</td>\n",
       "      <td>0.031847</td>\n",
       "      <td>1.0</td>\n",
       "      <td>1.000000</td>\n",
       "      <td>1.0000</td>\n",
       "      <td>1.000000</td>\n",
       "    </tr>\n",
       "    <tr>\n",
       "      <th>11</th>\n",
       "      <td>What strategies were used to scale the Llama 3...</td>\n",
       "      <td>The strategies used to scale the Llama 3 model...</td>\n",
       "      <td>[101010111012\\nTraining Tokens0.700.750.800.85...</td>\n",
       "      <td>Llama 3 uses 4D parallelism, combining tensor,...</td>\n",
       "      <td>0.162963</td>\n",
       "      <td>1.0</td>\n",
       "      <td>0.000000</td>\n",
       "      <td>0.9375</td>\n",
       "      <td>1.000000</td>\n",
       "    </tr>\n",
       "  </tbody>\n",
       "</table>\n",
       "</div>"
      ],
      "text/plain": [
       "                                             question  \\\n",
       "0   What are the main limitations and risks associ...   \n",
       "1   How does PaliGemma perform compared to larger ...   \n",
       "2   What ablation studies were conducted on Llama ...   \n",
       "3   What is the hardware optimization that enables...   \n",
       "4   How does PaliGemma achieve transferability acr...   \n",
       "5   What is the choice of the distribution head us...   \n",
       "6   What datasets were used to train and evaluate ...   \n",
       "7   How does ColPali achieve faster indexing and q...   \n",
       "8   How does TimesFM handle long-horizon forecasts...   \n",
       "9   What novelties does the TimesFM introduce in t...   \n",
       "10  What problem does ColPali aim to solve in docu...   \n",
       "11  What strategies were used to scale the Llama 3...   \n",
       "\n",
       "                                               answer  \\\n",
       "0   No relevant information has been founded relat...   \n",
       "1   PaliGemma, despite being a sub-3B vision-langu...   \n",
       "2   No relevant information has been founded relat...   \n",
       "3   No relevant information has been founded relat...   \n",
       "4   PaliGemma achieves transferability across diff...   \n",
       "5   The choice of the distribution head used in La...   \n",
       "6   No relevant information has been founded relat...   \n",
       "7   ColPali achieves faster indexing and querying ...   \n",
       "8   TimesFM handles long-horizon forecasts by util...   \n",
       "9   No relevant information has been founded relat...   \n",
       "10  ColPali aims to solve the problem of efficient...   \n",
       "11  The strategies used to scale the Llama 3 model...   \n",
       "\n",
       "                                             contexts  \\\n",
       "0   [Model Arch. Layer Acc.\\nS4 No gate S4 18.3\\n-...   \n",
       "1   [July 2024\\nPaliGemma: A versatile 3B VLM for ...   \n",
       "2   [Model Preference\\nPM for Llama 3 8B 60.0%\\nSt...   \n",
       "3   [/uni00000015/uni00000014/uni0000001a/uni00000...   \n",
       "4   [PaliGemma: A versatile 3B VLM for transfer\\nL...   \n",
       "5   [Lag-Llama\\nas in LLaMA (Touvron et al., 2023)...   \n",
       "6   [Finetuned Multilingual Long context Tool use ...   \n",
       "7   [Figure 2: ColPali simplifies document retriev...   \n",
       "8   [A decoder-only foundation model for time-seri...   \n",
       "9   [A decoder-only foundation model for time-seri...   \n",
       "10  [Figure 2: ColPali simplifies document retriev...   \n",
       "11  [101010111012\\nTraining Tokens0.700.750.800.85...   \n",
       "\n",
       "                                         ground_truth  context_relevancy  \\\n",
       "0   While Mamba shows strong performance in variou...           0.012195   \n",
       "1   PaliGemma, with less than 3B parameters, achie...           0.018405   \n",
       "2   Ablation studies focused on hyperparameters li...           0.015385   \n",
       "3   Mamba uses a hardware-aware parallel algorithm...           0.008065   \n",
       "4   PaliGemma uses a flexible fine-tuning approach...           0.020202   \n",
       "5   The model uses a Student's t-distribution head...           0.016529   \n",
       "6   The model was trained on 27 datasets across do...           0.005376   \n",
       "7   ColPali directly encodes pages from their imag...           0.043478   \n",
       "8   TimesFM uses longer output patches during deco...           0.027027   \n",
       "9   The main novelties include a patched-decoder s...           0.028409   \n",
       "10  ColPali addresses the inefficiencies in curren...           0.031847   \n",
       "11  Llama 3 uses 4D parallelism, combining tensor,...           0.162963   \n",
       "\n",
       "    context_precision  context_recall  faithfulness  answer_relevancy  \n",
       "0                 0.0        0.000000        0.0000          0.000000  \n",
       "1                 1.0        1.000000        1.0000          0.811428  \n",
       "2                 0.0        0.000000        0.0000          0.000000  \n",
       "3                 1.0        0.000000        0.0000          0.000000  \n",
       "4                 1.0        0.333333        0.5625          1.000000  \n",
       "5                 1.0        1.000000        1.0000          0.856607  \n",
       "6                 0.0        0.000000        0.5000          0.000000  \n",
       "7                 1.0        1.000000        1.0000          1.000000  \n",
       "8                 1.0        1.000000        0.7500          0.934344  \n",
       "9                 1.0        1.000000        0.0000          0.000000  \n",
       "10                1.0        1.000000        1.0000          1.000000  \n",
       "11                1.0        0.000000        0.9375          1.000000  "
      ]
     },
     "execution_count": 10,
     "metadata": {},
     "output_type": "execute_result"
    }
   ],
   "source": [
    "df_ragas_eval = res_ragas_eval.to_pandas()\n",
    "df_ragas_eval"
   ]
  },
  {
   "cell_type": "code",
   "execution_count": 45,
   "id": "ed2050f9-a055-447d-a971-140591e56e94",
   "metadata": {},
   "outputs": [
    {
     "data": {
      "text/plain": [
       "True"
      ]
     },
     "execution_count": 45,
     "metadata": {},
     "output_type": "execute_result"
    }
   ],
   "source": [
    "from langfuse import Langfuse\n",
    "\n",
    "langfuse = Langfuse()\n",
    "langfuse.auth_check()"
   ]
  },
  {
   "cell_type": "code",
   "execution_count": 64,
   "id": "1378379f-2abd-456b-9437-ae374a62b46a",
   "metadata": {},
   "outputs": [],
   "source": [
    "df_ragas_eval_traces = trace_evaluation(\n",
    "    langfuse,\n",
    "    f\"{id_pipeline}_ragas\",\n",
    "    df_ragas_eval,\n",
    "    [metric.name for metric in metrics]\n",
    ")\n"
   ]
  }
 ],
 "metadata": {
  "kernelspec": {
   "display_name": "Python 3 (ipykernel)",
   "language": "python",
   "name": "python3"
  },
  "language_info": {
   "codemirror_mode": {
    "name": "ipython",
    "version": 3
   },
   "file_extension": ".py",
   "mimetype": "text/x-python",
   "name": "python",
   "nbconvert_exporter": "python",
   "pygments_lexer": "ipython3",
   "version": "3.10.12"
  }
 },
 "nbformat": 4,
 "nbformat_minor": 5
}
