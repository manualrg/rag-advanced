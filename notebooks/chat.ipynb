{
 "cells": [
  {
   "cell_type": "code",
   "execution_count": 6,
   "id": "c1b2b0b2-a840-4e00-b4f4-ce87cf3b7c5e",
   "metadata": {},
   "outputs": [],
   "source": [
    "from dotenv import load_dotenv\n",
    "\n",
    "from langchain_community.document_loaders import PyPDFLoader\n",
    "from langchain_openai import ChatOpenAI\n",
    "from langchain_chroma import Chroma\n",
    "\n",
    "from src.mle import utils as mle_utils"
   ]
  },
  {
   "cell_type": "code",
   "execution_count": 9,
   "id": "bae1209a-7d2d-48c5-86e0-54fc6dced3db",
   "metadata": {},
   "outputs": [],
   "source": [
    "index_name = \"ai-papers\"\n",
    "llm_emb = \"text-embedding-3-small\""
   ]
  },
  {
   "cell_type": "code",
   "execution_count": 10,
   "id": "20c7b6c3-adbe-4cb6-b101-192ebedc67b3",
   "metadata": {},
   "outputs": [
    {
     "name": "stdout",
     "output_type": "stream",
     "text": [
      "* Artículo 107\n",
      "Modif icación del Reglamento (UE) 2018/858\n",
      "En el artículo 5 del Reglamento (UE) 2018/85 [{'dt_release': '2024-07-12', 'page': 120, 'source': 'AIACT_20241689_ES_TXT.pdf'}]\n",
      "\n",
      "* Artículo 112\n",
      "Evaluación y revisión\n",
      "1. La Comisión evaluará la necesidad de modificar la lista del an [{'dt_release': '2024-07-12', 'page': 122, 'source': 'AIACT_20241689_ES_TXT.pdf'}]\n",
      "\n"
     ]
    }
   ],
   "source": [
    "load_dotenv()\n",
    "llm = ChatOpenAI()\n",
    "embeddings = OpenAIEmbeddings(model=llm_emb)\n",
    "\n",
    "path_db = mle_utils.path_data_interm / \"index_name\" / \"chroma_langchain_db\"\n",
    "\n",
    "vector_store = Chroma(\n",
    "    collection_name=index_name,\n",
    "    embedding_function=embeddings,\n",
    "    persist_directory=path_db.as_posix()\n",
    ")\n",
    "\n",
    "\n",
    "results = vector_store.similarity_search(\n",
    "    \"que reglamentos son modificados por la AI Act\",\n",
    "    k=2,\n",
    ")\n",
    "for res in results:\n",
    "    print(f\"* {res.page_content[:100]} [{res.metadata}]\")\n",
    "    print()"
   ]
  },
  {
   "cell_type": "code",
   "execution_count": null,
   "id": "68ed90d3-f413-4944-849f-e5b37103bfeb",
   "metadata": {},
   "outputs": [],
   "source": []
  }
 ],
 "metadata": {
  "kernelspec": {
   "display_name": "Python 3 (ipykernel)",
   "language": "python",
   "name": "python3"
  },
  "language_info": {
   "codemirror_mode": {
    "name": "ipython",
    "version": 3
   },
   "file_extension": ".py",
   "mimetype": "text/x-python",
   "name": "python",
   "nbconvert_exporter": "python",
   "pygments_lexer": "ipython3",
   "version": "3.10.12"
  }
 },
 "nbformat": 4,
 "nbformat_minor": 5
}
